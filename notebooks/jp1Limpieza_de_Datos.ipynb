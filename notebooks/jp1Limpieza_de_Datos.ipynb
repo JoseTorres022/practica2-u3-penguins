{
 "cells": [
  {
   "cell_type": "markdown",
   "metadata": {},
   "source": [
    "## 1. Contexto\n",
    "En este conjunto de datos relacionados con los pingüinos implica examinar y visualizar los patrones y relaciones presentes en los datos. A continuacion, se busca respuesta a las siguientes preguntas:\n",
    "\n",
    "    1. ¿Cual es la vida promedio de un pinguino?\n",
    "    2. ¿Viven as las hembras o los machos?\n",
    "    3. ¿La altura es un rasgo distintivo del sexo?\n",
    "    4. ¿Cual es la proporción altura/ancho de los picos?\n",
    "    5. ¿Qué tipo de datos son las variables del conjunto de datos?\n",
    "    6. ¿Cuantas variables de cada tipo de dato tenemos en el conjunto de datos?\n",
    "    7. ¿Cuantas observaciones y variables tenemos en el conjunto de datos?\n",
    "    8. ¿Existen valores nulos explícitos en el conjunto de datos?\n",
    "    9. ¿De tener observaciones con valores nulos?      9.1 ¿Cuántas tenemos por cada variable?\n",
    "    10. ¿Cuantos valores nulos tenemos en el total en el conjunto de datos?\n"
   ]
  },
  {
   "cell_type": "markdown",
   "metadata": {},
   "source": [
    "## 2. El dataset\n",
    "La informacion recolectada se encuentra en un archivo CSV (penguins), contiene 344 filas y 9 columnas. Despues de la limpieza veremos si se reducen las filas y/o la columnas de nuestro dataset."
   ]
  },
  {
   "cell_type": "markdown",
   "metadata": {},
   "source": [
    "## 3. Primer vistazo al dataset\n"
   ]
  },
  {
   "cell_type": "code",
   "execution_count": 3,
   "metadata": {},
   "outputs": [
    {
     "name": "stdout",
     "output_type": "stream",
     "text": [
      "(344, 9)\n"
     ]
    },
    {
     "data": {
      "text/html": [
       "<div>\n",
       "<style scoped>\n",
       "    .dataframe tbody tr th:only-of-type {\n",
       "        vertical-align: middle;\n",
       "    }\n",
       "\n",
       "    .dataframe tbody tr th {\n",
       "        vertical-align: top;\n",
       "    }\n",
       "\n",
       "    .dataframe thead th {\n",
       "        text-align: right;\n",
       "    }\n",
       "</style>\n",
       "<table border=\"1\" class=\"dataframe\">\n",
       "  <thead>\n",
       "    <tr style=\"text-align: right;\">\n",
       "      <th></th>\n",
       "      <th>rowid</th>\n",
       "      <th>species</th>\n",
       "      <th>island</th>\n",
       "      <th>bill_length_mm</th>\n",
       "      <th>bill_depth_mm</th>\n",
       "      <th>flipper_length_mm</th>\n",
       "      <th>body_mass_g</th>\n",
       "      <th>sex</th>\n",
       "      <th>year</th>\n",
       "    </tr>\n",
       "  </thead>\n",
       "  <tbody>\n",
       "    <tr>\n",
       "      <th>0</th>\n",
       "      <td>1</td>\n",
       "      <td>Adelie</td>\n",
       "      <td>Torgersen</td>\n",
       "      <td>39.1</td>\n",
       "      <td>18.7</td>\n",
       "      <td>181.0</td>\n",
       "      <td>3750.0</td>\n",
       "      <td>male</td>\n",
       "      <td>2007</td>\n",
       "    </tr>\n",
       "    <tr>\n",
       "      <th>1</th>\n",
       "      <td>2</td>\n",
       "      <td>Adelie</td>\n",
       "      <td>Torgersen</td>\n",
       "      <td>39.5</td>\n",
       "      <td>17.4</td>\n",
       "      <td>186.0</td>\n",
       "      <td>3800.0</td>\n",
       "      <td>female</td>\n",
       "      <td>2007</td>\n",
       "    </tr>\n",
       "    <tr>\n",
       "      <th>2</th>\n",
       "      <td>3</td>\n",
       "      <td>Adelie</td>\n",
       "      <td>Torgersen</td>\n",
       "      <td>40.3</td>\n",
       "      <td>18.0</td>\n",
       "      <td>195.0</td>\n",
       "      <td>3250.0</td>\n",
       "      <td>female</td>\n",
       "      <td>2007</td>\n",
       "    </tr>\n",
       "    <tr>\n",
       "      <th>3</th>\n",
       "      <td>4</td>\n",
       "      <td>Adelie</td>\n",
       "      <td>Torgersen</td>\n",
       "      <td>NaN</td>\n",
       "      <td>NaN</td>\n",
       "      <td>NaN</td>\n",
       "      <td>NaN</td>\n",
       "      <td>NaN</td>\n",
       "      <td>2007</td>\n",
       "    </tr>\n",
       "    <tr>\n",
       "      <th>4</th>\n",
       "      <td>5</td>\n",
       "      <td>Adelie</td>\n",
       "      <td>Torgersen</td>\n",
       "      <td>36.7</td>\n",
       "      <td>19.3</td>\n",
       "      <td>193.0</td>\n",
       "      <td>3450.0</td>\n",
       "      <td>female</td>\n",
       "      <td>2007</td>\n",
       "    </tr>\n",
       "  </tbody>\n",
       "</table>\n",
       "</div>"
      ],
      "text/plain": [
       "   rowid species     island  bill_length_mm  bill_depth_mm  flipper_length_mm  \\\n",
       "0      1  Adelie  Torgersen            39.1           18.7              181.0   \n",
       "1      2  Adelie  Torgersen            39.5           17.4              186.0   \n",
       "2      3  Adelie  Torgersen            40.3           18.0              195.0   \n",
       "3      4  Adelie  Torgersen             NaN            NaN                NaN   \n",
       "4      5  Adelie  Torgersen            36.7           19.3              193.0   \n",
       "\n",
       "   body_mass_g     sex  year  \n",
       "0       3750.0    male  2007  \n",
       "1       3800.0  female  2007  \n",
       "2       3250.0  female  2007  \n",
       "3          NaN     NaN  2007  \n",
       "4       3450.0  female  2007  "
      ]
     },
     "execution_count": 3,
     "metadata": {},
     "output_type": "execute_result"
    }
   ],
   "source": [
    "#Importamos librerias/modulos\n",
    "import pandas as pd\n",
    "import matplotlib.pyplot as plt\n",
    "import seaborn as sns\n",
    "\n",
    "#Leyendo el dataset\n",
    "ruta=\"../data/penguins.csv\"\n",
    "data=pd.read_csv(ruta)\n",
    "\n",
    "#Mostra el dataset\n",
    "print(data.shape)\n",
    "data.head()\n"
   ]
  },
  {
   "cell_type": "markdown",
   "metadata": {},
   "source": [
    "## 4. Limpieza del dataset\n",
    "Se realizara el proceso de limpieza teniendo en cuenta las siguietnes situaciones comunes:\n",
    "\n",
    "    1. Datos faltantes en algunas celdas.\n",
    "    2. Columnas irrelevantes (ques no corresponden al problema que queremos resolver)\n",
    "    3. Registros (filas) repetidos.\n",
    "    4. Valores extremos (outliers) en el caso de las variables numericas. Se deben analizar en detalle pues no necesariamente la soulucion es eliminarlos.\n",
    "    5. Errores tipograficos en el caso de las variabe categoriccas.\n",
    "\n",
    "Se supone que, al final de este proceso de limpieza deberiamos tener un set de datos\n",
    "integro, listo para la fase de Análisis Exploratorio."
   ]
  },
  {
   "cell_type": "markdown",
   "metadata": {},
   "source": [
    "## 4.1 Datos faltantes\n",
    "Aqui damos comienzo a los puntos anteriormente mencionados. El numero total de filas son 344.``"
   ]
  },
  {
   "cell_type": "markdown",
   "metadata": {},
   "source": [
    "## 4.2 Columnas irrelevantes\n",
    "Una columnas irrelenvante contiene:\n",
    "\n",
    "    1. No contienen informcion relevante para el problema que queremos resolver.\n",
    "    2. Una columnas categoria pero con un solo nivel.\n",
    "    3. Una columna numerica pero con un solo valor.\n",
    "    4. Columnas con informacion redundante.\n",
    "\n",
    "Pero si se tiene dudas sobre una columnas puede ser relevante o no, lo mejor es dejarla,\n",
    "y mas adelante en las sigueintes etapas, podremos darnos cuenta de si se preserva o no.\n",
    "\n",
    "Todas las columnas categoricas, tienen que tener mas de un subnivel. Local no se elemina ninguna.\n"
   ]
  },
  {
   "cell_type": "code",
   "execution_count": 4,
   "metadata": {},
   "outputs": [
    {
     "data": {
      "text/html": [
       "<div>\n",
       "<style scoped>\n",
       "    .dataframe tbody tr th:only-of-type {\n",
       "        vertical-align: middle;\n",
       "    }\n",
       "\n",
       "    .dataframe tbody tr th {\n",
       "        vertical-align: top;\n",
       "    }\n",
       "\n",
       "    .dataframe thead th {\n",
       "        text-align: right;\n",
       "    }\n",
       "</style>\n",
       "<table border=\"1\" class=\"dataframe\">\n",
       "  <thead>\n",
       "    <tr style=\"text-align: right;\">\n",
       "      <th></th>\n",
       "      <th>rowid</th>\n",
       "      <th>bill_length_mm</th>\n",
       "      <th>bill_depth_mm</th>\n",
       "      <th>flipper_length_mm</th>\n",
       "      <th>body_mass_g</th>\n",
       "      <th>year</th>\n",
       "    </tr>\n",
       "  </thead>\n",
       "  <tbody>\n",
       "    <tr>\n",
       "      <th>count</th>\n",
       "      <td>344.000000</td>\n",
       "      <td>342.000000</td>\n",
       "      <td>342.000000</td>\n",
       "      <td>342.000000</td>\n",
       "      <td>342.000000</td>\n",
       "      <td>344.000000</td>\n",
       "    </tr>\n",
       "    <tr>\n",
       "      <th>mean</th>\n",
       "      <td>172.500000</td>\n",
       "      <td>43.921930</td>\n",
       "      <td>17.151170</td>\n",
       "      <td>200.915205</td>\n",
       "      <td>4201.754386</td>\n",
       "      <td>2008.029070</td>\n",
       "    </tr>\n",
       "    <tr>\n",
       "      <th>std</th>\n",
       "      <td>99.448479</td>\n",
       "      <td>5.459584</td>\n",
       "      <td>1.974793</td>\n",
       "      <td>14.061714</td>\n",
       "      <td>801.954536</td>\n",
       "      <td>0.818356</td>\n",
       "    </tr>\n",
       "    <tr>\n",
       "      <th>min</th>\n",
       "      <td>1.000000</td>\n",
       "      <td>32.100000</td>\n",
       "      <td>13.100000</td>\n",
       "      <td>172.000000</td>\n",
       "      <td>2700.000000</td>\n",
       "      <td>2007.000000</td>\n",
       "    </tr>\n",
       "    <tr>\n",
       "      <th>25%</th>\n",
       "      <td>86.750000</td>\n",
       "      <td>39.225000</td>\n",
       "      <td>15.600000</td>\n",
       "      <td>190.000000</td>\n",
       "      <td>3550.000000</td>\n",
       "      <td>2007.000000</td>\n",
       "    </tr>\n",
       "    <tr>\n",
       "      <th>50%</th>\n",
       "      <td>172.500000</td>\n",
       "      <td>44.450000</td>\n",
       "      <td>17.300000</td>\n",
       "      <td>197.000000</td>\n",
       "      <td>4050.000000</td>\n",
       "      <td>2008.000000</td>\n",
       "    </tr>\n",
       "    <tr>\n",
       "      <th>75%</th>\n",
       "      <td>258.250000</td>\n",
       "      <td>48.500000</td>\n",
       "      <td>18.700000</td>\n",
       "      <td>213.000000</td>\n",
       "      <td>4750.000000</td>\n",
       "      <td>2009.000000</td>\n",
       "    </tr>\n",
       "    <tr>\n",
       "      <th>max</th>\n",
       "      <td>344.000000</td>\n",
       "      <td>59.600000</td>\n",
       "      <td>21.500000</td>\n",
       "      <td>231.000000</td>\n",
       "      <td>6300.000000</td>\n",
       "      <td>2009.000000</td>\n",
       "    </tr>\n",
       "  </tbody>\n",
       "</table>\n",
       "</div>"
      ],
      "text/plain": [
       "            rowid  bill_length_mm  bill_depth_mm  flipper_length_mm  \\\n",
       "count  344.000000      342.000000     342.000000         342.000000   \n",
       "mean   172.500000       43.921930      17.151170         200.915205   \n",
       "std     99.448479        5.459584       1.974793          14.061714   \n",
       "min      1.000000       32.100000      13.100000         172.000000   \n",
       "25%     86.750000       39.225000      15.600000         190.000000   \n",
       "50%    172.500000       44.450000      17.300000         197.000000   \n",
       "75%    258.250000       48.500000      18.700000         213.000000   \n",
       "max    344.000000       59.600000      21.500000         231.000000   \n",
       "\n",
       "       body_mass_g         year  \n",
       "count   342.000000   344.000000  \n",
       "mean   4201.754386  2008.029070  \n",
       "std     801.954536     0.818356  \n",
       "min    2700.000000  2007.000000  \n",
       "25%    3550.000000  2007.000000  \n",
       "50%    4050.000000  2008.000000  \n",
       "75%    4750.000000  2009.000000  \n",
       "max    6300.000000  2009.000000  "
      ]
     },
     "execution_count": 4,
     "metadata": {},
     "output_type": "execute_result"
    }
   ],
   "source": [
    "#Veamos que ocurren con las columnas numericas\n",
    "data.describe()"
   ]
  },
  {
   "cell_type": "markdown",
   "metadata": {},
   "source": [
    "Como se muestra, hay 6 columnas que tienen desviacion estandas (std) diferentes de cero, lo que indica que no tienen un unico valor."
   ]
  },
  {
   "cell_type": "markdown",
   "metadata": {},
   "source": [
    "## 4.3 Filas repetidas\n"
   ]
  },
  {
   "cell_type": "code",
   "execution_count": 5,
   "metadata": {},
   "outputs": [
    {
     "name": "stdout",
     "output_type": "stream",
     "text": [
      "Volumen del dataset antes de eliminar filas repetidas: (344, 9)\n",
      "Volumen del dataset despues de eliminar filas repetidas: (344, 9)\n"
     ]
    }
   ],
   "source": [
    "print(f\"Volumen del dataset antes de eliminar filas repetidas: {data.shape}\")\n",
    "data.drop_duplicates(inplace=True)\n",
    "print(f\"Volumen del dataset despues de eliminar filas repetidas: {data.shape}\")\n"
   ]
  },
  {
   "cell_type": "markdown",
   "metadata": {},
   "source": [
    "Como vemos, no hay filas repetidas, por ende, se mantienen las 344 filas y las 9 columas intactas."
   ]
  },
  {
   "cell_type": "markdown",
   "metadata": {},
   "source": [
    "## 4.3 Outliers (valores extremos) en variables numericas"
   ]
  },
  {
   "cell_type": "markdown",
   "metadata": {},
   "source": [
    "## 4.4 Errores tipograficos en variables categoricas"
   ]
  },
  {
   "cell_type": "markdown",
   "metadata": {},
   "source": [
    "## 4.6 Exportado resultados"
   ]
  },
  {
   "cell_type": "markdown",
   "metadata": {},
   "source": [
    "Listo, ya se ha completado la fase de limpieza del dataset."
   ]
  }
 ],
 "metadata": {
  "kernelspec": {
   "display_name": "practicapinguinos",
   "language": "python",
   "name": "python3"
  },
  "language_info": {
   "codemirror_mode": {
    "name": "ipython",
    "version": 3
   },
   "file_extension": ".py",
   "mimetype": "text/x-python",
   "name": "python",
   "nbconvert_exporter": "python",
   "pygments_lexer": "ipython3",
   "version": "3.12.0"
  }
 },
 "nbformat": 4,
 "nbformat_minor": 2
}
