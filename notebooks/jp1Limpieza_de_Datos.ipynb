{
 "cells": [
  {
   "cell_type": "markdown",
   "metadata": {},
   "source": [
    "## 1. Contexto\n",
    "En este conjunto de datos relacionados con los pingüinos implica examinar y visualizar los patrones y relaciones presentes en los datos. A continuacion, se busca respuesta a las siguientes preguntas:\n",
    "\n",
    "    1. ¿Cual es la vida promedio de un pinguino?\n",
    "    2. ¿Viven as las hembras o los machos?\n",
    "    3. ¿La altura es un rasgo distintivo del sexo?\n",
    "    4. ¿Cual es la proporción altura/ancho de los picos?\n",
    "    5. ¿Qué tipo de datos son las variables del conjunto de datos?\n",
    "    6. ¿Cuantas variables de cada tipo de dato tenemos en el conjunto de datos?\n",
    "    7. ¿Cuantas observaciones y variables tenemos en el conjunto de datos?\n",
    "    8. ¿Existen valores nulos explícitos en el conjunto de datos?\n",
    "    9. ¿De tener observaciones con valores nulos? ¿Cuántas tenemos por cada variable?\n",
    "    10. ¿Cuantos valores nulos tenemos en el total en el conjunto de datos?\n"
   ]
  },
  {
   "cell_type": "markdown",
   "metadata": {},
   "source": [
    "## 2. El dataset\n",
    "La informacion recolectada se encuentra en un archivo CSV (penguins), contiene 344 filas y 9 columnas. Despues de la limpieza veremos si se reducen las filas y/o la columnas de nuestro dataset."
   ]
  },
  {
   "cell_type": "markdown",
   "metadata": {},
   "source": [
    "## 3. Primer vistazo al dataset\n"
   ]
  },
  {
   "cell_type": "code",
   "execution_count": null,
   "metadata": {},
   "outputs": [],
   "source": [
    "# Importamos librerias/modulos\n",
    "import pandas as pd\n",
    "import matplotlib.pyplot as plt\n",
    "import seaborn as sns\n",
    "\n",
    "# Leyendo el dataset\n",
    "ruta = \"../data/penguins.csv\"\n",
    "data = pd.read_csv(ruta)\n",
    "\n",
    "# Mostra el dataset\n",
    "print(data.shape)\n",
    "data.head()"
   ]
  },
  {
   "cell_type": "markdown",
   "metadata": {},
   "source": [
    "## 4. Limpieza del dataset\n",
    "Se realizara el proceso de limpieza teniendo en cuenta las siguietnes situaciones comunes:\n",
    "\n",
    "    1. Datos faltantes en algunas celdas.\n",
    "    2. Columnas irrelevantes (ques no corresponden al problema que queremos resolver)\n",
    "    3. Registros (filas) repetidos.\n",
    "    4. Valores extremos (outliers) en el caso de las variables numericas. Se deben analizar en detalle pues no necesariamente la soulucion es eliminarlos.\n",
    "    5. Errores tipograficos en el caso de las variabe categoriccas.\n",
    "\n",
    "Se supone que, al final de este proceso de limpieza deberiamos tener un set de datos\n",
    "integro, listo para la fase de Análisis Exploratorio."
   ]
  },
  {
   "cell_type": "markdown",
   "metadata": {},
   "source": [
    "## 4.1 Datos faltantes\n",
    "Aqui damos comienzo a los puntos anteriormente mencionados. El numero total de filas son 344 y 9 columnas hasta el momento."
   ]
  },
  {
   "cell_type": "code",
   "execution_count": null,
   "metadata": {},
   "outputs": [],
   "source": [
    "data.dropna(inplace=True)\n",
    "data.info()"
   ]
  },
  {
   "cell_type": "markdown",
   "metadata": {},
   "source": [
    "## 4.2 Columnas irrelevantes\n",
    "Una columnas irrelenvante contiene:\n",
    "\n",
    "    1. No contienen informcion relevante para el problema que queremos resolver.\n",
    "    2. Una columnas categoria pero con un solo nivel.\n",
    "    3. Una columna numerica pero con un solo valor.\n",
    "    4. Columnas con informacion redundante.\n",
    "\n",
    "Pero si se tiene dudas sobre una columnas puede ser relevante o no, lo mejor es dejarla,\n",
    "y mas adelante en las sigueintes etapas, podremos darnos cuenta de si se preserva o no.\n",
    "\n",
    "Todas las columnas categoricas, tienen que tener mas de un subnivel. Local no se elemina ninguna.\n"
   ]
  },
  {
   "cell_type": "code",
   "execution_count": null,
   "metadata": {},
   "outputs": [],
   "source": [
    "# Conteo de niveles en las diferentes columnas categoricas\n",
    "columnas_categoricas = ['species', 'island', 'sex']\n",
    "\n",
    "for col in columnas_categoricas:\n",
    "    print(f\"Columna {col}: {data[col].nunique()} subniveles\")"
   ]
  },
  {
   "cell_type": "code",
   "execution_count": null,
   "metadata": {},
   "outputs": [],
   "source": [
    "# Veamos que ocurren con las columnas numericas\n",
    "data.describe()"
   ]
  },
  {
   "cell_type": "markdown",
   "metadata": {},
   "source": [
    "Como se muestra, hay 6 columnas que tienen desviacion estandar (std) diferentes de cero, lo que indica que no tienen un unico valor."
   ]
  },
  {
   "cell_type": "markdown",
   "metadata": {},
   "source": [
    "## 4.3 Filas repetidas\n"
   ]
  },
  {
   "cell_type": "code",
   "execution_count": null,
   "metadata": {},
   "outputs": [],
   "source": [
    "print(f\"Volumen del dataset antes de eliminar filas repetidas: {data.shape}\")\n",
    "data.drop_duplicates(inplace=True)\n",
    "print(f\"Volumen del dataset despues de eliminar filas repetidas: {data.shape}\")"
   ]
  },
  {
   "cell_type": "markdown",
   "metadata": {},
   "source": [
    "Como vemos, no hay filas repetidas, por ende, se mantienen las 344 filas y las 9 columas intactas."
   ]
  },
  {
   "cell_type": "markdown",
   "metadata": {},
   "source": [
    "## 4.4 Outliers (valores extremos) en variables numericas\n",
    "No siempre se deben eliminar los Outliers porque dependiendo de la variable numérica analizada estos pueden contener informacion importante. Aqui pedemos usar algo asi como el sentido comun, dependiendo de nuestras varaibles."
   ]
  },
  {
   "cell_type": "code",
   "execution_count": null,
   "metadata": {},
   "outputs": [],
   "source": [
    "# Generamos graficas individuales para las variable numericas, pues estas\n",
    "# tienen rangos diferentes\n",
    "columnas_numericas = ['rowid', 'bill_length_mm',\n",
    "                      'bill_depth_mm', 'flipper_length_mm', 'body_mass_g', 'year']\n",
    "\n",
    "fig, ax = plt.subplots(nrows=6, ncols=1, figsize=(10, 25))\n",
    "fig.subplots_adjust(hspace=0.5)\n",
    "\n",
    "for i, col in enumerate(columnas_numericas):\n",
    "    sns.boxplot(x=col, data=data, ax=ax[i])\n",
    "    ax[i].set_title(col)\n",
    "    ax[i].set_xticklabels(ax[i].get_xticklabels(), rotation=45)"
   ]
  },
  {
   "cell_type": "markdown",
   "metadata": {},
   "source": [
    "**Observaciones:** Por lo que vemos es un dataset que no contiene outliers, por ende, no se elimina ninguna fila. Pero en la variable numerica *year* tiene datos erroneos que podemos eliminar."
   ]
  },
  {
   "cell_type": "markdown",
   "metadata": {},
   "source": [
    "## 4.5 Errores tipograficos en variables categoricas\n",
    "En una variable categorica pueden aparecer subniveles que sen lo mismo, una palabra completa, mayusculas y/o vrebiaturas, y que pueden ser lo mismo, por ejemplo, div y division. "
   ]
  },
  {
   "cell_type": "code",
   "execution_count": null,
   "metadata": {},
   "outputs": [],
   "source": [
    "# Graficamos los subniveles de cada variable categorica\n",
    "columnas_categoricas = ['species', 'island', 'sex']\n",
    "\n",
    "fir, ax = plt.subplots(nrows=3, ncols=1, figsize=(10, 25))\n",
    "fig.subplots_adjust(hspace=1)\n",
    "\n",
    "for i, col in enumerate(columnas_categoricas):\n",
    "    sns.countplot(x=col, data=data, ax=ax[i])\n",
    "    ax[i].set_xticklabels(ax[i].get_xticklabels(), rotation=30)"
   ]
  },
  {
   "cell_type": "markdown",
   "metadata": {},
   "source": [
    "**Observaciones:** En caso que hubieran salido dos subniveles o mas similares con el tittulo, estos se deberia unificar\n",
    "\n",
    "Si en la columna categorica **sex** hubieran dos subniveles que significaran lo mismo o que estuvieran mal escritos.\n",
    "\n",
    "\n",
    "Por ejemplo: male y *males*, su unificacion y/o reemplazo seria de la siguiente manera:\n",
    "\n",
    "**print(data['sex'].unique())** >> *Mostrar la columna en cuestion antes de la unificacion/reemplazo.*\n",
    "\n",
    "**data['sex']=data['sex'].str.replace('males','male', regex=false)** >> *Unificando/Reemplazando los subniveles.*\n",
    "\n",
    "**print(data['sex'].unique())** >> *Mostrar la columna en cuestion despues de la unificacion/reemplazo.*\n",
    "\n",
    "*Los resultados serian asi:*\n",
    "\n",
    "**['males' 'male' 'female']**\n",
    "\n",
    "**['male' 'female']**"
   ]
  },
  {
   "cell_type": "markdown",
   "metadata": {},
   "source": [
    "## 4.6 Exportado resultados"
   ]
  },
  {
   "cell_type": "markdown",
   "metadata": {},
   "source": [
    "Listo, ya se ha completado la fase de limpieza del dataset, que originalmente tenia 344 filas y 9 columnas. El dataset resultante tiene 333 filas y 9 columnas.\n",
    "\n",
    "El dataset ya esta listo para el Análisis Exploratorio."
   ]
  },
  {
   "cell_type": "code",
   "execution_count": null,
   "metadata": {},
   "outputs": [],
   "source": [
    "# Exportando los resultados en un nuevo archivo CSV\n",
    "ruta = \"../results/dataset_penguins_clean.csv\"\n",
    "data.to_csv(ruta, index=False)"
   ]
  }
 ],
 "metadata": {
  "kernelspec": {
   "display_name": "practicapinguinos",
   "language": "python",
   "name": "python3"
  },
  "language_info": {
   "codemirror_mode": {
    "name": "ipython",
    "version": 3
   },
   "file_extension": ".py",
   "mimetype": "text/x-python",
   "name": "python",
   "nbconvert_exporter": "python",
   "pygments_lexer": "ipython3",
   "version": "3.12.0"
  }
 },
 "nbformat": 4,
 "nbformat_minor": 2
}
